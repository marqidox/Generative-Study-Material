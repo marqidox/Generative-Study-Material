{
 "cells": [
  {
   "cell_type": "markdown",
   "id": "f6a42ef9-2d67-4084-81de-9c1ca82e95b5",
   "metadata": {},
   "source": [
    "# processing lesson plan\n",
    "pandas dataframe = title of study guide\n",
    "dictionary?\n",
    "big picture: ... ---> generate a question that asks if this has been accomplished\n",
    "terms: {term: definition, ...} if defintion not provided generate them\n",
    "lesson headers: {topic: content, ...}\n",
    "\n",
    "# practice material\n",
    "test (randomly shuffling generated quizzes OR finding online tests to link to)\n",
    "quizzes (vocab or comprehension)\n",
    "flashcards with vocab terms\n",
    "link to other resources found on the internet (web scraping)\n",
    "chatbot to explain concepts: icon on the side, similar to customer service\n",
    "\n",
    "# other features\n",
    "satifisifaction ratings and need more explainations at the end of each material to allow for further elaboration"
   ]
  },
  {
   "cell_type": "markdown",
   "id": "aaa4a92f-0db2-4a36-bf53-9a322bad4a98",
   "metadata": {},
   "source": [
    "Reading in the study guide\n",
    "- study guide sections are seperated by newlines, where the text immediately follows the header\n",
    "- convert study guide to text file\n",
    "- read into python string\n",
    "- split into a list\n",
    "- make list contents into a dictionary where {topic: content}"
   ]
  },
  {
   "cell_type": "markdown",
   "id": "506f0e0f-2bac-4f1a-84d3-95cb8e6e58f9",
   "metadata": {},
   "source": [
    "!{sys.executable} -m pip install library"
   ]
  },
  {
   "cell_type": "code",
   "execution_count": 30,
   "id": "e8967e61-eec7-458c-948c-dccbf5e8097c",
   "metadata": {},
   "outputs": [],
   "source": [
    "from pathlib import Path\n",
    "study_guide_text = Path(r\"C:\\Users\\hiloo\\Downloads\\proofs edited .txt\").read_text(encoding='utf-8')"
   ]
  },
  {
   "cell_type": "code",
   "execution_count": 36,
   "id": "1e8fdbd0-f823-4a49-a5b2-429b03cfee2b",
   "metadata": {},
   "outputs": [],
   "source": [
    "study_guide_text = study_guide_text[len(\"\\ufeff\"):] # to remove \\ufeff at beginning of file"
   ]
  },
  {
   "cell_type": "code",
   "execution_count": 54,
   "id": "dd43e6ba-d7ae-4c9f-9fbb-58e40750c1d4",
   "metadata": {},
   "outputs": [
    {
     "data": {
      "text/plain": [
       "['Proofs ',\n",
       " 'Big Picture\\nMathematical reasoning and proofs are a fundamental part of geometry. Several tools used in writing proofs will be covered, such as reasoning (inductive/deductive), conditional statements (converse/inverse/contrapositive), and congruence properties. The purpose of a proof is to prove that a mathematical statement is true. ',\n",
       " 'Key Terms \\nProof: A logical argument that uses logic, definitions, properties, and previously proven statements to show a statement is true.\\nDefinition: A statement that describes a mathematical object and can be written as a biconditional statement. \\nPostulate: Basic rule that is assumed to be true. Also known as an axiom. \\nTheorem: Rule that is proven using postulates, definitions, and other proven theorems. \\nCongruent: When two geometric figures have the same shape and size. ',\n",
       " 'Algebraic Proofs \\nSolving an algebraic equation is like doing an algebraic proof. Algebraic proofs use algebraic properties, such as the properties of equality and the distributive property.',\n",
       " 'Basic Algebraic Properties \\nReflexive Property of Equality: a = a \\nSymmetric Property of Equality: a = b and b = a \\nTransitive Property of Equality: a = b and b = c, than a = c \\nSubstitution Property of Equality: If a = b, then b can be used in place of a and vice versa \\nAddition Property of Equality: If a = b, then a + c = b + c \\nSubtraction Property of Equality: If a = b, then a - c = b - c \\nMultiplication Property of Equality: If a = b, then ac = bc \\nDivision Property of Equality: If a = b, then a ÷ c = b ÷ c \\nDistributive Property: a(b + c) = ab + ac ',\n",
       " 'Since segment lengths and angle measures are real numbers, the following properties of equality are true for segment lengths and angle measures: \\nReflexive Property of Equality \\nSymmetric Property of Equality \\nTransitive Property of Equality ',\n",
       " 'Geometric Proofs \\nA proof is a logical argument that shows a statement is true. Definitions, postulates, properties, and theorems can be used to justify each step of a proof. ',\n",
       " 'General Tips for Writing Geometric Proofs: \\nDraw a diagram and mark it with the given information. \\nWrite the hypothesis to be proven. \\nNumber each step. \\nStatements with the same reason can be written separately or combined into one step. \\nEvery logical statement needs a reason! The reason can be given information, definition, theorems, and postulates. ',\n",
       " 'Avoiding Errors \\nBe careful when interpreting diagrams. There are some things you can conclude and some that you cannot. \\nCan assume:\\n* Collinear points\\n* Coplanar points\\n* Straight angles and lines\\n* Adjacent angles\\n* Linear pairs of angles\\n* Vertical angles \\nCan’t assume:\\n* Measures of segments\\n* Measures of angles \\n* Congruent segments \\n* Congruent angles \\n* Right angles ',\n",
       " 'Direct Proof \\nA direct geometric proof is a proof where you use deductive reasoning to make logical steps from the hypothesis to the conclusion. Each logical step needs to be justified with a reason. \\nThere are several types of direct proofs: \\n* Two-column proof: Numbered statements go on the left side and the corresponding reasons go on the right side. \\n* Flowchart proof: Boxes and arrows are used to show the structure of the proof. Arrows show the flow of the logical argument, and the reasons are written below the statements they justify. \\n* Paragraph proof: The steps of the proof and their corresponding reasons are written as sentences in a paragraph. Transitional words such as so, then, and therefore help to make the logic clear. \\n* Coordinate proof: Place a geometric figure in a coordinate plane. Use variables to represent the coordinates of the figure so that the conclusion can be generalized. ',\n",
       " 'Two-Column Proof \\nA two-column proof is one way to write a geometric proof. Starting from GIVEN information, use deductive reasoning to reach the conjecture you want to PROVE. \\nGIVEN: the hypothesis \\nPROVE: the conclusion \\nExample of a Two-Column Proof: \\nStatements\\n1. Hypothesis\\n2. …\\n3. Conclusion \\nReasons\\n1. Given\\n2. …\\n3. n\\nThe number of statements n will vary. \\nDon’t forget to give a reason for the last statement! ',\n",
       " 'Indirect Proof \\nAn indirect proof is where we prove a statement by first  assuming  that  it’s  false  and  then  proving  that  it’s impossible for the statement to be false (usually because it would lead to a contradiction). If the statement cannot be false, then it must be true. \\nSteps to write an indirect proof: \\n1. Assume the opposite of the conclusion \\n2. Continue to reason logically until a contradiction is reached.\\n3. Since there is a contradiction, the original statement is true. \\nUse  variables  instead  of  specific  examples  so  that  the contradiction can be generalized.']"
      ]
     },
     "execution_count": 54,
     "metadata": {},
     "output_type": "execute_result"
    }
   ],
   "source": [
    "import re\n",
    "study_guide_sections = [x for x in re.split('\\n\\n|\\n \\n', study_guide_text)]\n",
    "study_guide_sections"
   ]
  },
  {
   "cell_type": "code",
   "execution_count": 55,
   "id": "b40eac7b-3dc9-4689-88ce-73d99e4a7de3",
   "metadata": {},
   "outputs": [
    {
     "name": "stdout",
     "output_type": "stream",
     "text": [
      "Key Terms \n",
      "Proof: A logical argument that uses logic, definitions, properties, and previously proven statements to show a statement is true.\n",
      "Definition: A statement that describes a mathematical object and can be written as a biconditional statement. \n",
      "Postulate: Basic rule that is assumed to be true. Also known as an axiom. \n",
      "Theorem: Rule that is proven using postulates, definitions, and other proven theorems. \n",
      "Congruent: When two geometric figures have the same shape and size. \n"
     ]
    }
   ],
   "source": [
    "print(study_guide_sections[2])\n",
    "# topic, seperate by first \\n\n",
    "# content, remaining text"
   ]
  },
  {
   "cell_type": "code",
   "execution_count": 51,
   "id": "c8374da5-ba4c-4128-bd4e-76c0da19662d",
   "metadata": {},
   "outputs": [
    {
     "name": "stdout",
     "output_type": "stream",
     "text": [
      "('Key Terms', 'Proof: A logical argument that uses logic, definitions, properties, and previously proven statements to show a statement is true.\\nDefinition: A statement that describes a mathematical object and can be written as a biconditional statement. \\nPostulate: Basic rule that is assumed to be true. Also known as an axiom. \\nTheorem: Rule that is proven using postulates, definitions, and other proven theorems. \\nCongruent: When two geometric figures have the same shape and size.')\n"
     ]
    }
   ],
   "source": [
    "def get_topic_content(string):\n",
    "    first_newline_index = string.find(\"\\n\")\n",
    "    topic = string[0:first_newline_index].strip()\n",
    "    content = string[first_newline_index:].strip()\n",
    "    return (topic, content)\n",
    "print(get_topic_content(study_guide_sections[2]))"
   ]
  },
  {
   "cell_type": "code",
   "execution_count": 52,
   "id": "f3ab1557-57d3-459e-aea8-b9800345eadd",
   "metadata": {},
   "outputs": [
    {
     "data": {
      "text/plain": [
       "{'Proof': 's',\n",
       " 'Big Picture': 'Mathematical reasoning and proofs are a fundamental part of geometry. Several tools used in writing proofs will be covered, such as reasoning (inductive/deductive), conditional statements (converse/inverse/contrapositive), and congruence properties. The purpose of a proof is to prove that a mathematical statement is true.',\n",
       " 'Key Terms': 'Proof: A logical argument that uses logic, definitions, properties, and previously proven statements to show a statement is true.\\nDefinition: A statement that describes a mathematical object and can be written as a biconditional statement. \\nPostulate: Basic rule that is assumed to be true. Also known as an axiom. \\nTheorem: Rule that is proven using postulates, definitions, and other proven theorems. \\nCongruent: When two geometric figures have the same shape and size.',\n",
       " 'Algebraic Proofs': 'Solving an algebraic equation is like doing an algebraic proof. Algebraic proofs use algebraic properties, such as the properties of equality and the distributive property.',\n",
       " 'Basic Algebraic Properties': 'Reflexive Property of Equality: a = a \\nSymmetric Property of Equality: a = b and b = a \\nTransitive Property of Equality: a = b and b = c, than a = c \\nSubstitution Property of Equality: If a = b, then b can be used in place of a and vice versa \\nAddition Property of Equality: If a = b, then a + c = b + c \\nSubtraction Property of Equality: If a = b, then a - c = b - c \\nMultiplication Property of Equality: If a = b, then ac = bc \\nDivision Property of Equality: If a = b, then a ÷ c = b ÷ c \\nDistributive Property: a(b + c) = ab + ac',\n",
       " 'Since segment lengths and angle measures are real numbers, the following properties of equality are true for segment lengths and angle measures:': 'Reflexive Property of Equality \\nSymmetric Property of Equality \\nTransitive Property of Equality',\n",
       " 'Geometric Proofs': 'A proof is a logical argument that shows a statement is true. Definitions, postulates, properties, and theorems can be used to justify each step of a proof.',\n",
       " 'General Tips for Writing Geometric Proofs:': 'Draw a diagram and mark it with the given information. \\nWrite the hypothesis to be proven. \\nNumber each step. \\nStatements with the same reason can be written separately or combined into one step. \\nEvery logical statement needs a reason! The reason can be given information, definition, theorems, and postulates.',\n",
       " 'Avoiding Errors': 'Be careful when interpreting diagrams. There are some things you can conclude and some that you cannot. \\nCan assume:\\n* Collinear points\\n* Coplanar points\\n* Straight angles and lines\\n* Adjacent angles\\n* Linear pairs of angles\\n* Vertical angles \\nCan’t assume:\\n* Measures of segments\\n* Measures of angles \\n* Congruent segments \\n* Congruent angles \\n* Right angles',\n",
       " 'Direct Proof': 'A direct geometric proof is a proof where you use deductive reasoning to make logical steps from the hypothesis to the conclusion. Each logical step needs to be justified with a reason. \\nThere are several types of direct proofs: \\n* Two-column proof: Numbered statements go on the left side and the corresponding reasons go on the right side. \\n* Flowchart proof: Boxes and arrows are used to show the structure of the proof. Arrows show the flow of the logical argument, and the reasons are written below the statements they justify. \\n* Paragraph proof: The steps of the proof and their corresponding reasons are written as sentences in a paragraph. Transitional words such as so, then, and therefore help to make the logic clear. \\n* Coordinate proof: Place a geometric figure in a coordinate plane. Use variables to represent the coordinates of the figure so that the conclusion can be generalized.',\n",
       " 'Two-Column Proof': 'A two-column proof is one way to write a geometric proof. Starting from GIVEN information, use deductive reasoning to reach the conjecture you want to PROVE. \\nGIVEN: the hypothesis \\nPROVE: the conclusion \\nExample of a Two-Column Proof: \\nStatements\\n1. Hypothesis\\n2. …\\n3. Conclusion \\nReasons\\n1. Given\\n2. …\\n3. n\\nThe number of statements n will vary. \\nDon’t forget to give a reason for the last statement!',\n",
       " 'Indirect Proof': 'An indirect proof is where we prove a statement by first  assuming  that  it’s  false  and  then  proving  that  it’s impossible for the statement to be false (usually because it would lead to a contradiction). If the statement cannot be false, then it must be true. \\nSteps to write an indirect proof: \\n1. Assume the opposite of the conclusion \\n2. Continue to reason logically until a contradiction is reached.\\n3. Since there is a contradiction, the original statement is true. \\nUse  variables  instead  of  specific  examples  so  that  the contradiction can be generalized.'}"
      ]
     },
     "execution_count": 52,
     "metadata": {},
     "output_type": "execute_result"
    }
   ],
   "source": [
    "study_guide_dictionary = {}\n",
    "study_guide_dictionary.update([get_topic_content(i) for i in study_guide_sections])\n",
    "study_guide_dictionary"
   ]
  },
  {
   "cell_type": "markdown",
   "id": "c083e024-bf67-4793-9f74-18776edebcd6",
   "metadata": {},
   "source": [
    "Generating the practice materials\n",
    "VOCABULARY\n",
    "- content including \": \" usually indicates vocab word, split on that to make processing easier\n",
    "- if vocab word doesn't containa dictionary, use webscraping to find it\n",
    "type 1: vocab flashcards\n",
    "- flashcards, class flashcard, display_term(), display_definition(), self_dictionary\n",
    "type 2: vocab quiz\n",
    "- generate questions based on vocab terms class vocab quiz, get_questions(), get_answers()\n",
    "type 3: vocab explaination\n",
    "- get_alternative_definition(), get_example() (example is use of word in a sentence)\n",
    "\n",
    "COMPREHENSION\n",
    "type 1: testing on concepts\n",
    "- when would we use ____?\n",
    "type 2: example problems\n",
    "- class example problems, pull from online to find example questions get_examples() or generate_examples() from chatbot and accompanying answers\n",
    "\n",
    "Links\n",
    "- online quizzes\n",
    "- online tests\n",
    "- extra resource material\n",
    "\n",
    "EXTRA FEATURES\n",
    "type 1: elaboration\n",
    "- is this incomplete question?\n",
    "- get_explaination() asking chatbot to elaborate given a lack of understanding\n",
    "type 2: disclaimer\n",
    "- disclaimer about inaccuracy for math, etc."
   ]
  },
  {
   "cell_type": "code",
   "execution_count": 57,
   "id": "0089d3a6-1093-40d2-9db4-5e5db53d0886",
   "metadata": {},
   "outputs": [],
   "source": [
    "import requests\n",
    "import json\n",
    "import os"
   ]
  },
  {
   "cell_type": "code",
   "execution_count": null,
   "id": "9b1b6d53-80c2-4e8a-9e7d-037537f1d12f",
   "metadata": {},
   "outputs": [],
   "source": [
    "from getpass import getpass\n",
    "OPENROUTER_API_KEY = getpass()\n",
    "os.environ[\"OPENROUTER_API_KEY\"] = OPENROUTER_API_KEY"
   ]
  },
  {
   "cell_type": "code",
   "execution_count": 58,
   "id": "3c7b5c66-c058-4c45-9005-73b19d7b91de",
   "metadata": {},
   "outputs": [],
   "source": [
    "def get_json_content(json):\n",
    "    content = json['choices'][0]['message']['content'].strip()\n",
    "    # cleaning up the content, ie. spaces\n",
    "    return content"
   ]
  },
  {
   "cell_type": "code",
   "execution_count": 60,
   "id": "bb0e63b5-d2b4-4433-a495-9f1f5425c6dd",
   "metadata": {},
   "outputs": [],
   "source": [
    "# getting chatbot response\n",
    "def generate_chatbot_response(model=\"nousresearch/nous-capybara-7b\", prompt):\n",
    "    response = requests.post(\n",
    "        url=\"https://openrouter.ai/api/v1/chat/completions\",\n",
    "        data=json.dumps({\n",
    "            \"model\": model,\n",
    "            \"messages\": [{\"role\": \"user\", \"content\": prompt}]\n",
    "        }),\n",
    "        headers={\"Authorization\": f\"Bearer {OPENROUTER_API_KEY}\"}\n",
    "    )\n",
    "    return get_json_content(response.json())"
   ]
  },
  {
   "cell_type": "code",
   "execution_count": null,
   "id": "0d573ff4-e4c0-47c8-8070-34479f161881",
   "metadata": {},
   "outputs": [],
   "source": [
    "class Vocabulary:\n",
    "    def __init__(self, term, definition=None):\n",
    "        self.term = term\n",
    "        if definition==None:\n",
    "            definition_prompt = \"what is the definition of \" + term + \"?\"\n",
    "            self.definition = generate_chatbot_response(definition_prompt)\n",
    "        else:\n",
    "            self.definition = definition\n",
    "\n",
    "    def display_term(self):\n",
    "        print(\"Term:\", self.term)\n",
    "\n",
    "    def display_definition(self):\n",
    "        print(\"Definition:\", self.definition)\n",
    "\n",
    "    def get_alternative_definition(self):\n",
    "        alt_definition_prompt = \"Rephrase the definition of \" + self.term + \".\"\n",
    "        alt_defintion = generate_chatbot_response(alt_definition_prompt)\n",
    "        print(\"Alternative Definition:\", alt_defintion)\n",
    "\n",
    "    def get_example_use(self):\n",
    "        example = \"Use \" + self.term + \" in a sentence.\"\n",
    "        example_use = generate_chatbot_response(example)\n",
    "        print(\"Using\",self.term,\"in a sentence:\",example_use)\n",
    "\n",
    "    def __str__(self):\n",
    "        return f\"{self.term}: {self.definition}\"\n",
    "\n",
    "    \n",
    "\n",
    "    "
   ]
  }
 ],
 "metadata": {
  "kernelspec": {
   "display_name": "Python 3 (ipykernel)",
   "language": "python",
   "name": "python3"
  },
  "language_info": {
   "codemirror_mode": {
    "name": "ipython",
    "version": 3
   },
   "file_extension": ".py",
   "mimetype": "text/x-python",
   "name": "python",
   "nbconvert_exporter": "python",
   "pygments_lexer": "ipython3",
   "version": "3.9.0"
  }
 },
 "nbformat": 4,
 "nbformat_minor": 5
}
